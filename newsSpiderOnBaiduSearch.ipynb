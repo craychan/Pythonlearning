{
 "cells": [
  {
   "cell_type": "code",
   "execution_count": 1,
   "id": "9f9d3f2c",
   "metadata": {},
   "outputs": [],
   "source": [
    "# import packages\n",
    "import requests\n",
    "import re\n",
    "\n",
    "#user Agent\n",
    "userAgent = {'User-Agent': 'Mozilla/5.0 (Windows NT 10.0; Win64; x64) AppleWebKit/537.36 (KHTML, like Gecko) Chrome/92.0.4515.131 Safari/537.36 Edg/92.0.902.67'}"
   ]
  },
  {
   "cell_type": "code",
   "execution_count": 2,
   "id": "e5c6f2b9",
   "metadata": {},
   "outputs": [],
   "source": [
    "companys = ['华能信托', '阿里巴巴', '万科集团', '百度集团', '腾讯', '京东']"
   ]
  },
  {
   "cell_type": "code",
   "execution_count": 3,
   "id": "aa6299a1",
   "metadata": {},
   "outputs": [],
   "source": [
    "# fuction define for url \n",
    "def baidu(company):\n",
    "    url = 'https://www.baidu.com/s? tn=news&rtt=1&bsst=1&cl=2&wd=' + company\n",
    "    res = requests.get(url, headers = userAgent).text\n",
    "\n",
    "# print(res)"
   ]
  },
  {
   "cell_type": "code",
   "execution_count": 4,
   "id": "5efa1058",
   "metadata": {},
   "outputs": [
    {
     "ename": "IndentationError",
     "evalue": "unexpected indent (<ipython-input-4-097699146e92>, line 2)",
     "output_type": "error",
     "traceback": [
      "\u001b[1;36m  File \u001b[1;32m\"<ipython-input-4-097699146e92>\"\u001b[1;36m, line \u001b[1;32m2\u001b[0m\n\u001b[1;33m    p_href = '<h3 class=\"news-title_1YtI1\">.*?<a href=\"(.*?)\"'\u001b[0m\n\u001b[1;37m    ^\u001b[0m\n\u001b[1;31mIndentationError\u001b[0m\u001b[1;31m:\u001b[0m unexpected indent\n"
     ]
    }
   ],
   "source": [
    "# Regular Express filter\n",
    "    p_href = '<h3 class=\"news-title_1YtI1\">.*?<a href=\"(.*?)\"'\n",
    "    p_title = '<h3 class=\"news-title_1YtI1\">.*?>(.*?)</a>'\n",
    "    p_info = '<div class=\"news-source_Xj4Dv\">.*?>(.*?)</div>'\n",
    "\n",
    "    # Filter \n",
    "    href = re.findall(p_href, res, re.S)\n",
    "    title = re.findall(p_title, res, re.S)\n",
    "    info = re.findall(p_info, res, re.S)\n",
    "\n",
    "#     print(title)"
   ]
  },
  {
   "cell_type": "code",
   "execution_count": null,
   "id": "539bd0ca",
   "metadata": {},
   "outputs": [],
   "source": [
    "# Data clean\n",
    "    source = []\n",
    "    date = []\n",
    "\n",
    "    for i in range(len(title)):\n",
    "        title[i] = title[i].strip()\n",
    "        title[i] = re.sub('<.*?>', '', title[i])\n",
    "        info[i] = re.sub('<.*?>', '', info[i])\n",
    "\n",
    "        source.append(info[i])\n",
    "    #     date.append(info[i].split('')[1])\n",
    "\n",
    "        source[i] = source[i].strip()\n",
    "\n",
    "        source[i] = re.sub('\\s', '', source[i])\n",
    "    #     date[i] = date[i].strip()\n",
    "    "
   ]
  },
  {
   "cell_type": "code",
   "execution_count": null,
   "id": "18eda891",
   "metadata": {},
   "outputs": [],
   "source": [
    "    file1 = open(\"C:/Users/Raymond/Desktop/Data_Dig_Report.txt\", \"a\")\n",
    "    file1.write(company + 'Data Digging Completed!' + '\\n' + '\\n')\n",
    "\n",
    "    for i in range(len(title)):    \n",
    "        file1.write(str(i+1) + '.' + title[i] + '(' + source[i] + ')' + '\\n') \n",
    "        file1.write(href[i] + '\\n')\n",
    "\n",
    "    file1.write('- - - - - - - - - - - - - - - - ' + '\\n' + '\\n')\n",
    "    file1.close()"
   ]
  },
  {
   "cell_type": "code",
   "execution_count": null,
   "id": "1300cba3",
   "metadata": {},
   "outputs": [],
   "source": [
    "# companys = ['华能信托', '阿里巴巴', '万科集团', '百度集团', '腾讯', '京东']\n",
    "\n",
    "for i in companys:\n",
    "    baidu(i)\n",
    "    print(i + '百度新闻爬取成功')"
   ]
  }
 ],
 "metadata": {
  "kernelspec": {
   "display_name": "Python 3",
   "language": "python",
   "name": "python3"
  },
  "language_info": {
   "codemirror_mode": {
    "name": "ipython",
    "version": 3
   },
   "file_extension": ".py",
   "mimetype": "text/x-python",
   "name": "python",
   "nbconvert_exporter": "python",
   "pygments_lexer": "ipython3",
   "version": "3.8.8"
  }
 },
 "nbformat": 4,
 "nbformat_minor": 5
}
