{
 "cells": [
  {
   "cell_type": "markdown",
   "id": "2f97f335",
   "metadata": {},
   "source": [
    "# Baidu News Digger\n",
    "## import librarys"
   ]
  },
  {
   "cell_type": "code",
   "execution_count": 1,
   "id": "5027491d",
   "metadata": {},
   "outputs": [],
   "source": [
    "import requests # url requests lib\n",
    "import re # regular expression \n",
    "import pymysql # mysql lib\n",
    "import time\n",
    "from datetime import timedelta, datetime"
   ]
  },
  {
   "cell_type": "markdown",
   "id": "9f5e060d",
   "metadata": {},
   "source": [
    "## user-agent define"
   ]
  },
  {
   "cell_type": "code",
   "execution_count": 2,
   "id": "af64a500",
   "metadata": {},
   "outputs": [],
   "source": [
    "headers = {'user-Agent': 'Mozilla/5.0 (Windows NT 10.0; Win64; x64) AppleWebKit/537.36 (KHTML, like Gecko) Chrome/92.0.4515.131 Safari/537.36 Edg/92.0.902.73'}"
   ]
  },
  {
   "cell_type": "markdown",
   "id": "8a71daf5",
   "metadata": {},
   "source": [
    "## Baidu News Spider Define"
   ]
  },
  {
   "cell_type": "code",
   "execution_count": 3,
   "id": "ca7e746e",
   "metadata": {},
   "outputs": [],
   "source": [
    "def baidu(company):\n",
    "    url = 'https://www.baidu.com/s? tn=news&rtt=4&bsst=1&cl=2&wd=' + company\n",
    "    res = requests.get(url, headers=headers, timeout=10).text\n",
    "    try:\n",
    "        res = res.encode('ISO-8859-1').decode('utf-8')\n",
    "    except:\n",
    "        try:\n",
    "            res = res.encode('ISO-8859-1').decode('gbk')\n",
    "        except:\n",
    "            res = res# new function and parameter is company:list\n",
    "    \n",
    "    \"\"\"Regular Expression\"\"\"\n",
    "    p_href = '<h3 class=\"news-title_1YtI1\"><a href=\"(.*?)\"'\n",
    "    p_title = '<h3 class=\"news-title_1YtI1\">.*?>(.*?)</a>'\n",
    "    p_info = '<div class=\"news-source_Xj4Dv\">(.*?)</div>'\n",
    "    href = re.findall(p_href, res, re.S)\n",
    "    title = re.findall(p_title, res, re.S)\n",
    "    info = re.findall(p_info, res, re.S)\n",
    "    \n",
    "    \"\"\"Split source and date from info\"\"\"\n",
    "    source = []\n",
    "    date = []\n",
    "    for i in range(len(title)):\n",
    "        title[i] = title[i].strip()\n",
    "        title[i] = re.sub('<.*?>', '', title[i])\n",
    "        info[i] = info[i].strip()\n",
    "        info[i] = re.sub('<.*?>', '', info[i])\n",
    "        source.append(info[i].split('\\n')[0])\n",
    "        date.append(info[i].split('\\n')[1])\n",
    "        source[i] = source[i].strip()\n",
    "        date[i] = date[i].strip()\n",
    "    \n",
    "        \"\"\"Time Formatting\"\"\"\n",
    "        if ('小时' in date[i] or ('分钟') in date[i]):\n",
    "            date[i] = time.strftime(\"%Y-%m-%d\")\n",
    "        elif (':' in date[i] or ('今天') in date[i] or ('昨天') in date[i]):\n",
    "            yesterday = datetime.today() + timedelta(-1)\n",
    "            date[i] = yesterday.strftime(\"%Y-%m-%d\")\n",
    "        \n",
    "    \"\"\"Score the news and date deep clean\"\"\"   \n",
    "    score = []\n",
    "    keywords = ['违约','诉讼','兑付','大跌','蒸发', '逃离']\n",
    "    \n",
    "    for i in range(len(title)):\n",
    "        num = 0\n",
    "        try:\n",
    "            article = requests.get(href[i], headers=headers, timeout=10).text\n",
    "        except:\n",
    "            print(commpany +\" Article Digging failure\")\n",
    "        \n",
    "        try:\n",
    "            article = article.encode('ISO-8859-1').decode('uft-8')\n",
    "        except:\n",
    "            try:\n",
    "                article = article.encode('ISO-8859-1').decode('gbk')\n",
    "            except:\n",
    "                article = article\n",
    "                \n",
    "        p_article = '<p>(/*?)</p>'\n",
    "        article_main = re.findall(p_article, article)\n",
    "        article = ''.join(article_main)\n",
    "        \n",
    "        for k in keywords:\n",
    "            if (k in article) or (k in title[i]):\n",
    "                num -= 5\n",
    "        score.append(num)\n",
    "        \n",
    "#         \"\"\"Deep Clean\"\"\"\n",
    "#         company_re = company[0] + '.{0, 5}' + company[-1]\n",
    "#         if len(re.findall(company_re, article)) < 1:\n",
    "#             title[i] = ''\n",
    "#             source[i] = ''\n",
    "#             href[i] = ''\n",
    "#             date[i] = ''\n",
    "#             score[i] = ''\n",
    "#     while '' in title:\n",
    "#         title.remove('')\n",
    "#     while '' in href:\n",
    "#         href.remove('')\n",
    "#     while '' in date:\n",
    "#         date.remove('')\n",
    "#     while '' in source:\n",
    "#         source.remove('')\n",
    "#     while '' in score:\n",
    "#         score.remove('')\n",
    "    \n",
    "    \"\"\"Print date after cleaned\"\"\"\n",
    "    for i in range(len(title)):\n",
    "        print(str(i+1) + '.' + title[i] + '(' + date[i] + ' ' + source[i] + ')')\n",
    "        print(href[i])\n",
    "        print(company + '(' + '舆情分数: ' + str(score[i]) + ')')\n",
    "        \n",
    "    '''Save data to Mysql'''\n",
    "    for i in range(len(title)):\n",
    "        db = pymysql.connect(host='localhost', user='root', database='spidder')\n",
    "        cur = db.cursor()\n",
    "#         \"\"\"Query data and distinct\"\"\"\n",
    "#         sql_1 = 'SELECT * FROM baidunews WHERE company = %s'\n",
    "#         cur.execute(sql_1, company)\n",
    "#         data_all = cur.fetchall()\n",
    "#         title_all = []\n",
    "#         for j in range(len(data_all)):\n",
    "#             title_all.append(data_all[j][1])\n",
    "            \n",
    "#         if title[i] not in title_all:\n",
    "        sql_2 = 'INSERT INTO baidunews(company, title, href, source, date, score) VALUES (%s, %s, %s, %s, %s,%s)'\n",
    "        cur.execute(sql_2, (company, title[i], href[i], source[i], date[i], score[i]))\n",
    "        db.commit()\n",
    "        cur.close()\n",
    "        db.close()\n",
    "        \n",
    "    print('END--------------------------------------------------------')"
   ]
  },
  {
   "cell_type": "code",
   "execution_count": 4,
   "id": "666ee557",
   "metadata": {
    "scrolled": true
   },
   "outputs": [
    {
     "name": "stdout",
     "output_type": "stream",
     "text": [
      "1.汾酒实施双轮驱动剑指复兴,市监总局约谈酒企引发白酒版块回调(2021-08-20 网易)\n",
      "https://www.163.com/dy/article/GHSFL12M0552370B.html\n",
      "水井坊(舆情分数: 0)\n",
      "2.水井坊:公司首次回购股份数量约为25万股,占公司总股本的比例为0...( )\n",
      "https://baijiahao.baidu.com/s?id=1708610691400568388&amp;wfr=spider&amp;for=pc\n",
      "水井坊(舆情分数: 0)\n",
      "3.水井坊首次回购25.47万股 耗资2898万元(2021-08-20 东方财富网)\n",
      "http://finance.eastmoney.com/a/202108202057129171.html\n",
      "水井坊(舆情分数: 0)\n",
      "4.成立高端销售公司 水井坊高端化战略推进(2021-08-20 新讯网)\n",
      "http://news.xinxunwang.com/china/gdxw/322871.html\n",
      "水井坊(舆情分数: 0)\n",
      "5.【公告抢先看】晚间重要公告:长电科技上半年实现净利润13.22亿元...(2021-08-20 网易新闻)\n",
      "http://dy.163.com/article/GHS3S5UA0519QIKK.html\n",
      "水井坊(舆情分数: 0)\n",
      "6.水井坊首次回购股份,支付总金额超2898万元( )\n",
      "https://baijiahao.baidu.com/s?id=1708603997682146861&amp;wfr=spider&amp;for=pc\n",
      "水井坊(舆情分数: 0)\n",
      "7.水井坊:耗资2898万元实施首次股份回购( )\n",
      "https://baijiahao.baidu.com/s?id=1708603525178880660&amp;wfr=spider&amp;for=pc\n",
      "水井坊(舆情分数: 0)\n",
      "8.博士眼镜现1笔大宗交易 共成交500.13万元(2021-08-20 新浪财经)\n",
      "http://finance.sina.com.cn/stock/ggzz/2021-08-20/doc-ikqcfncc4018541.shtml\n",
      "水井坊(舆情分数: 0)\n",
      "9.北摩高科现1笔大宗交易 共成交1,260.20万元(2021-08-20 新浪财经)\n",
      "http://finance.sina.com.cn/stock/ggzz/2021-08-20/doc-ikqcfncc4018484.shtml\n",
      "水井坊(舆情分数: 0)\n",
      "10.人民网(603000.SH)拟于8月30日召开投资者见面会(2021-08-20 新浪财经)\n",
      "http://finance.sina.com.cn/stock/hkstock/ggscyd/2021-08-20/doc-ikqcfncc4018177.shtml\n",
      "水井坊(舆情分数: 0)\n",
      "水井坊 Data digging failure\n"
     ]
    }
   ],
   "source": [
    "companys = ['水井坊']\n",
    "for company in companys:\n",
    "    try:\n",
    "        baidu(company)\n",
    "        print(company + ' Data digging succeesul')\n",
    "    except:\n",
    "        print(company + ' Data digging failure')"
   ]
  },
  {
   "cell_type": "code",
   "execution_count": null,
   "id": "a8db1c04",
   "metadata": {},
   "outputs": [],
   "source": []
  }
 ],
 "metadata": {
  "kernelspec": {
   "display_name": "Python 3 (ipykernel)",
   "language": "python",
   "name": "python3"
  },
  "language_info": {
   "codemirror_mode": {
    "name": "ipython",
    "version": 3
   },
   "file_extension": ".py",
   "mimetype": "text/x-python",
   "name": "python",
   "nbconvert_exporter": "python",
   "pygments_lexer": "ipython3",
   "version": "3.9.6"
  }
 },
 "nbformat": 4,
 "nbformat_minor": 5
}
