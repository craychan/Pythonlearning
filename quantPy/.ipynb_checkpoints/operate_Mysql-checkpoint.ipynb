{
 "cells": [
  {
   "cell_type": "markdown",
   "id": "d60cf1a3",
   "metadata": {},
   "source": [
    "# Operate Database by Python"
   ]
  },
  {
   "cell_type": "markdown",
   "id": "84eedf07",
   "metadata": {},
   "source": [
    "## import libs"
   ]
  },
  {
   "cell_type": "code",
   "execution_count": 1,
   "id": "13720b58",
   "metadata": {},
   "outputs": [],
   "source": [
    "import pymysql"
   ]
  },
  {
   "cell_type": "markdown",
   "id": "b9896ff3",
   "metadata": {},
   "source": [
    "## connect to database"
   ]
  },
  {
   "cell_type": "code",
   "execution_count": 2,
   "id": "e565d16e",
   "metadata": {},
   "outputs": [],
   "source": [
    "db = pymysql.connect(host='localhost', user='root', password='')\n",
    "cur = db.cursor()"
   ]
  },
  {
   "cell_type": "code",
   "execution_count": 3,
   "id": "a625dfe7",
   "metadata": {},
   "outputs": [
    {
     "name": "stdout",
     "output_type": "stream",
     "text": [
      "(('finacnedb',), ('information_schema',), ('mysql',), ('performance_schema',), ('sys',))\n"
     ]
    }
   ],
   "source": [
    "cur.execute(\"SHOW DATABASES\")\n",
    "database = cur.fetchall()\n",
    "print(database)"
   ]
  },
  {
   "cell_type": "markdown",
   "id": "15361c94",
   "metadata": {},
   "source": [
    "## commit and close cursor and database;"
   ]
  },
  {
   "cell_type": "code",
   "execution_count": 4,
   "id": "76b352e6",
   "metadata": {},
   "outputs": [],
   "source": [
    "db.commit\n",
    "cur.close()\n",
    "db.close()"
   ]
  }
 ],
 "metadata": {
  "kernelspec": {
   "display_name": "Python 3 (ipykernel)",
   "language": "python",
   "name": "python3"
  },
  "language_info": {
   "codemirror_mode": {
    "name": "ipython",
    "version": 3
   },
   "file_extension": ".py",
   "mimetype": "text/x-python",
   "name": "python",
   "nbconvert_exporter": "python",
   "pygments_lexer": "ipython3",
   "version": "3.9.6"
  }
 },
 "nbformat": 4,
 "nbformat_minor": 5
}
