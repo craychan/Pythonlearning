{
 "cells": [
  {
   "cell_type": "code",
   "execution_count": 1,
   "id": "df8464d6",
   "metadata": {},
   "outputs": [
    {
     "name": "stdout",
     "output_type": "stream",
     "text": [
      "[1, 2, 3, 4]\n",
      "[1 2 3 4]\n"
     ]
    }
   ],
   "source": [
    "import numpy as np\n",
    "a = [1,2, 3, 4]\n",
    "b = np.array([1, 2, 3, 4])\n",
    "print(a)\n",
    "print(b)"
   ]
  },
  {
   "cell_type": "code",
   "execution_count": 2,
   "id": "32d61b07",
   "metadata": {},
   "outputs": [
    {
     "name": "stdout",
     "output_type": "stream",
     "text": [
      "2\n",
      "2\n"
     ]
    }
   ],
   "source": [
    "print(a[1])\n",
    "print(b[1])"
   ]
  },
  {
   "cell_type": "code",
   "execution_count": 3,
   "id": "895089c8",
   "metadata": {},
   "outputs": [
    {
     "name": "stdout",
     "output_type": "stream",
     "text": [
      "[1, 2]\n",
      "[1 2]\n"
     ]
    }
   ],
   "source": [
    "print(a[0:2])\n",
    "print(b[0:2])"
   ]
  },
  {
   "cell_type": "code",
   "execution_count": 4,
   "id": "3a922df4",
   "metadata": {},
   "outputs": [
    {
     "name": "stdout",
     "output_type": "stream",
     "text": [
      "[1, 2, 3, 4, 1, 2, 3, 4] [2 4 6 8]\n"
     ]
    }
   ],
   "source": [
    "c = a * 2\n",
    "d = b * 2\n",
    "print(c, d)"
   ]
  },
  {
   "cell_type": "code",
   "execution_count": 5,
   "id": "40b8dd12",
   "metadata": {},
   "outputs": [],
   "source": [
    "e = [[1, 2], [3, 4], [5, 6]]\n",
    "f = np.array(e)"
   ]
  },
  {
   "cell_type": "code",
   "execution_count": 6,
   "id": "35ba2507",
   "metadata": {},
   "outputs": [
    {
     "name": "stdout",
     "output_type": "stream",
     "text": [
      "[[1, 2], [3, 4], [5, 6]]\n",
      "[[1 2]\n",
      " [3 4]\n",
      " [5 6]]\n"
     ]
    }
   ],
   "source": [
    "print(e)\n",
    "print(f)"
   ]
  },
  {
   "cell_type": "code",
   "execution_count": 7,
   "id": "36426a01",
   "metadata": {},
   "outputs": [
    {
     "name": "stdout",
     "output_type": "stream",
     "text": [
      "[0 1 2 3 4]\n",
      "[5 6 7 8 9]\n",
      "[5 7 9]\n"
     ]
    }
   ],
   "source": [
    "x = np.arange(5)\n",
    "y = np.arange(5, 10)\n",
    "z = np.arange(5, 10, 2)\n",
    "print(x)\n",
    "print(y)\n",
    "print(z)"
   ]
  },
  {
   "cell_type": "code",
   "execution_count": 11,
   "id": "a6864fd1",
   "metadata": {},
   "outputs": [
    {
     "name": "stdout",
     "output_type": "stream",
     "text": [
      "\n",
      " [ 0.30261253 -0.74768668  0.5327304  -0.62705386]\n",
      "\n",
      " [[ 0  1  2  3]\n",
      " [ 4  5  6  7]\n",
      " [ 8  9 10 11]\n",
      " [12 13 14 15]]\n",
      "\n",
      " [[87 19 19 26 23]\n",
      " [21 95 69 38 42]\n",
      " [ 5 92  5 89 74]\n",
      " [62 34 12 42 28]\n",
      " [51 57  1 13 22]]\n"
     ]
    }
   ],
   "source": [
    "r1 = np.random.randn(4) #follow mean=0 n=1 random=4\n",
    "r2 = np.arange(16).reshape(4, 4)\n",
    "r3 = np.random.randint(0, 99, (5, 5))\n",
    "\n",
    "print(\"\\n\",r1)\n",
    "print(\"\\n\",r2)\n",
    "print(\"\\n\",r3)"
   ]
  },
  {
   "cell_type": "markdown",
   "id": "952dba77",
   "metadata": {},
   "source": [
    "## Pandas: panel data"
   ]
  },
  {
   "cell_type": "code",
   "execution_count": 13,
   "id": "3f26e4b0",
   "metadata": {},
   "outputs": [
    {
     "name": "stdout",
     "output_type": "stream",
     "text": [
      "0      one\n",
      "1      two\n",
      "2    three\n",
      "dtype: object\n"
     ]
    }
   ],
   "source": [
    "import pandas as pd\n",
    "s1 = pd.Series(['one', 'two', 'three'])\n",
    "print(s1)"
   ]
  },
  {
   "cell_type": "code",
   "execution_count": 16,
   "id": "46fbb0d3",
   "metadata": {},
   "outputs": [
    {
     "name": "stdout",
     "output_type": "stream",
     "text": [
      "   0  1\n",
      "0  1  2\n",
      "1  3  4\n",
      "2  5  6\n"
     ]
    }
   ],
   "source": [
    "s2 = pd.DataFrame([[1, 2], [3, 4], [5, 6]])\n",
    "print(s2)"
   ]
  },
  {
   "cell_type": "code",
   "execution_count": 17,
   "id": "015aa2bc",
   "metadata": {},
   "outputs": [
    {
     "name": "stdout",
     "output_type": "stream",
     "text": [
      "   date  score\n",
      "0     1      2\n",
      "1     3      4\n",
      "2     5      6\n"
     ]
    }
   ],
   "source": [
    "a = pd.DataFrame()\n",
    "date = [1, 3, 5]\n",
    "score = [2, 4, 6]\n",
    "a['date'] = date\n",
    "a['score'] = score\n",
    "print(a)"
   ]
  },
  {
   "cell_type": "code",
   "execution_count": 23,
   "id": "982af9bd",
   "metadata": {},
   "outputs": [
    {
     "name": "stdout",
     "output_type": "stream",
     "text": [
      "   a  b\n",
      "x  1  2\n",
      "y  3  4\n",
      "z  5  6\n"
     ]
    }
   ],
   "source": [
    "b = pd.DataFrame({'a': [1, 3, 5], 'b': [2, 4, 6]}, index=['x', 'y', 'z'])\n",
    "print(b)"
   ]
  },
  {
   "cell_type": "code",
   "execution_count": 24,
   "id": "329b8499",
   "metadata": {},
   "outputs": [
    {
     "name": "stdout",
     "output_type": "stream",
     "text": [
      "   0  1  2\n",
      "a  1  3  5\n",
      "b  2  4  6\n"
     ]
    }
   ],
   "source": [
    "c = pd.DataFrame.from_dict({'a': [1, 3, 5], 'b': [2, 4, 6]}, orient=\"index\")\n",
    "print(c)"
   ]
  },
  {
   "cell_type": "code",
   "execution_count": 26,
   "id": "68e66bf3",
   "metadata": {},
   "outputs": [
    {
     "name": "stdout",
     "output_type": "stream",
     "text": [
      "   A  B   C   D\n",
      "x  0  1   2   3\n",
      "y  4  5   6   7\n",
      "z  8  9  10  11\n"
     ]
    }
   ],
   "source": [
    "d = pd.DataFrame(np.arange(12).reshape(3, 4), index=['x', 'y', 'z'], columns=['A', 'B', 'C', 'D'])\n",
    "print(d)"
   ]
  },
  {
   "cell_type": "code",
   "execution_count": 27,
   "id": "6e151fd6",
   "metadata": {},
   "outputs": [
    {
     "name": "stdout",
     "output_type": "stream",
     "text": [
      "      Date  High  Low  Price\n",
      "TSLA     0     1    2      3\n",
      "APPL     4     5    6      7\n",
      "CVX      8     9   10     11\n"
     ]
    }
   ],
   "source": [
    "d = d.rename(index={'x':'TSLA', 'y':'APPL', 'z':'CVX'}, columns={'A':'Date','B':'High','C':'Low', 'D':'Price'})\n",
    "print(d)"
   ]
  },
  {
   "cell_type": "code",
   "execution_count": 29,
   "id": "c391a372",
   "metadata": {},
   "outputs": [
    {
     "data": {
      "text/html": [
       "<div>\n",
       "<style scoped>\n",
       "    .dataframe tbody tr th:only-of-type {\n",
       "        vertical-align: middle;\n",
       "    }\n",
       "\n",
       "    .dataframe tbody tr th {\n",
       "        vertical-align: top;\n",
       "    }\n",
       "\n",
       "    .dataframe thead th {\n",
       "        text-align: right;\n",
       "    }\n",
       "</style>\n",
       "<table border=\"1\" class=\"dataframe\">\n",
       "  <thead>\n",
       "    <tr style=\"text-align: right;\">\n",
       "      <th></th>\n",
       "      <th>Date</th>\n",
       "      <th>High</th>\n",
       "      <th>Low</th>\n",
       "      <th>Price</th>\n",
       "    </tr>\n",
       "  </thead>\n",
       "  <tbody>\n",
       "    <tr>\n",
       "      <th>TSLA</th>\n",
       "      <td>0</td>\n",
       "      <td>1</td>\n",
       "      <td>2</td>\n",
       "      <td>3</td>\n",
       "    </tr>\n",
       "    <tr>\n",
       "      <th>APPL</th>\n",
       "      <td>4</td>\n",
       "      <td>5</td>\n",
       "      <td>6</td>\n",
       "      <td>7</td>\n",
       "    </tr>\n",
       "    <tr>\n",
       "      <th>CVX</th>\n",
       "      <td>8</td>\n",
       "      <td>9</td>\n",
       "      <td>10</td>\n",
       "      <td>11</td>\n",
       "    </tr>\n",
       "  </tbody>\n",
       "</table>\n",
       "</div>"
      ],
      "text/plain": [
       "      Date  High  Low  Price\n",
       "TSLA     0     1    2      3\n",
       "APPL     4     5    6      7\n",
       "CVX      8     9   10     11"
      ]
     },
     "execution_count": 29,
     "metadata": {},
     "output_type": "execute_result"
    }
   ],
   "source": [
    "d"
   ]
  },
  {
   "cell_type": "code",
   "execution_count": 32,
   "id": "92a0d1f0",
   "metadata": {},
   "outputs": [],
   "source": [
    "d.to_csv('data.csv')"
   ]
  },
  {
   "cell_type": "code",
   "execution_count": 33,
   "id": "46feed9c",
   "metadata": {},
   "outputs": [
    {
     "name": "stdout",
     "output_type": "stream",
     "text": [
      "  Unnamed: 0  Date  High  Low  Price\n",
      "0       TSLA     0     1    2      3\n",
      "1       APPL     4     5    6      7\n",
      "2        CVX     8     9   10     11\n"
     ]
    }
   ],
   "source": [
    "data = pd.read_csv('data.csv')\n",
    "print(data)"
   ]
  },
  {
   "cell_type": "code",
   "execution_count": 34,
   "id": "268911f7",
   "metadata": {},
   "outputs": [
    {
     "data": {
      "text/html": [
       "<div>\n",
       "<style scoped>\n",
       "    .dataframe tbody tr th:only-of-type {\n",
       "        vertical-align: middle;\n",
       "    }\n",
       "\n",
       "    .dataframe tbody tr th {\n",
       "        vertical-align: top;\n",
       "    }\n",
       "\n",
       "    .dataframe thead th {\n",
       "        text-align: right;\n",
       "    }\n",
       "</style>\n",
       "<table border=\"1\" class=\"dataframe\">\n",
       "  <thead>\n",
       "    <tr style=\"text-align: right;\">\n",
       "      <th></th>\n",
       "      <th>Date</th>\n",
       "      <th>High</th>\n",
       "      <th>Low</th>\n",
       "      <th>Price</th>\n",
       "    </tr>\n",
       "  </thead>\n",
       "  <tbody>\n",
       "    <tr>\n",
       "      <th>TSLA</th>\n",
       "      <td>0</td>\n",
       "      <td>1</td>\n",
       "      <td>2</td>\n",
       "      <td>3</td>\n",
       "    </tr>\n",
       "    <tr>\n",
       "      <th>APPL</th>\n",
       "      <td>4</td>\n",
       "      <td>5</td>\n",
       "      <td>6</td>\n",
       "      <td>7</td>\n",
       "    </tr>\n",
       "    <tr>\n",
       "      <th>CVX</th>\n",
       "      <td>8</td>\n",
       "      <td>9</td>\n",
       "      <td>10</td>\n",
       "      <td>11</td>\n",
       "    </tr>\n",
       "  </tbody>\n",
       "</table>\n",
       "</div>"
      ],
      "text/plain": [
       "      Date  High  Low  Price\n",
       "TSLA     0     1    2      3\n",
       "APPL     4     5    6      7\n",
       "CVX      8     9   10     11"
      ]
     },
     "execution_count": 34,
     "metadata": {},
     "output_type": "execute_result"
    }
   ],
   "source": [
    "d"
   ]
  },
  {
   "cell_type": "code",
   "execution_count": 35,
   "id": "ec90dc3b",
   "metadata": {},
   "outputs": [
    {
     "data": {
      "text/html": [
       "<div>\n",
       "<style scoped>\n",
       "    .dataframe tbody tr th:only-of-type {\n",
       "        vertical-align: middle;\n",
       "    }\n",
       "\n",
       "    .dataframe tbody tr th {\n",
       "        vertical-align: top;\n",
       "    }\n",
       "\n",
       "    .dataframe thead th {\n",
       "        text-align: right;\n",
       "    }\n",
       "</style>\n",
       "<table border=\"1\" class=\"dataframe\">\n",
       "  <thead>\n",
       "    <tr style=\"text-align: right;\">\n",
       "      <th></th>\n",
       "      <th>Unnamed: 0</th>\n",
       "      <th>Date</th>\n",
       "      <th>High</th>\n",
       "      <th>Low</th>\n",
       "      <th>Price</th>\n",
       "    </tr>\n",
       "  </thead>\n",
       "  <tbody>\n",
       "    <tr>\n",
       "      <th>0</th>\n",
       "      <td>TSLA</td>\n",
       "      <td>0</td>\n",
       "      <td>1</td>\n",
       "      <td>2</td>\n",
       "      <td>3</td>\n",
       "    </tr>\n",
       "    <tr>\n",
       "      <th>1</th>\n",
       "      <td>APPL</td>\n",
       "      <td>4</td>\n",
       "      <td>5</td>\n",
       "      <td>6</td>\n",
       "      <td>7</td>\n",
       "    </tr>\n",
       "    <tr>\n",
       "      <th>2</th>\n",
       "      <td>CVX</td>\n",
       "      <td>8</td>\n",
       "      <td>9</td>\n",
       "      <td>10</td>\n",
       "      <td>11</td>\n",
       "    </tr>\n",
       "  </tbody>\n",
       "</table>\n",
       "</div>"
      ],
      "text/plain": [
       "  Unnamed: 0  Date  High  Low  Price\n",
       "0       TSLA     0     1    2      3\n",
       "1       APPL     4     5    6      7\n",
       "2        CVX     8     9   10     11"
      ]
     },
     "execution_count": 35,
     "metadata": {},
     "output_type": "execute_result"
    }
   ],
   "source": [
    "data"
   ]
  },
  {
   "cell_type": "code",
   "execution_count": 36,
   "id": "709c991f",
   "metadata": {},
   "outputs": [],
   "source": [
    "a = data['Date']"
   ]
  },
  {
   "cell_type": "code",
   "execution_count": 41,
   "id": "d1fde6f4",
   "metadata": {},
   "outputs": [
    {
     "name": "stdout",
     "output_type": "stream",
     "text": [
      "  Unnamed: 0  Date  High  Low  Price\n",
      "1       APPL     4     5    6      7\n",
      "2        CVX     8     9   10     11\n",
      "  Unnamed: 0  Date  High  Low  Price\n",
      "1       APPL     4     5    6      7\n",
      "2        CVX     8     9   10     11\n"
     ]
    }
   ],
   "source": [
    "b = data[1:3]\n",
    "d = data.iloc[1:3]\n",
    "print(b)\n",
    "print(d)"
   ]
  },
  {
   "cell_type": "code",
   "execution_count": 44,
   "id": "29116b0b",
   "metadata": {},
   "outputs": [
    {
     "name": "stdout",
     "output_type": "stream",
     "text": [
      "  Unnamed: 0  Date  High  Low  Price\n",
      "0       TSLA     0     1    2      3\n",
      "1       APPL     4     5    6      7\n",
      "2        CVX     8     9   10     11\n"
     ]
    }
   ],
   "source": [
    "e = data.head()\n",
    "print(e)"
   ]
  },
  {
   "cell_type": "code",
   "execution_count": 45,
   "id": "cf07ec48",
   "metadata": {},
   "outputs": [
    {
     "data": {
      "text/html": [
       "<div>\n",
       "<style scoped>\n",
       "    .dataframe tbody tr th:only-of-type {\n",
       "        vertical-align: middle;\n",
       "    }\n",
       "\n",
       "    .dataframe tbody tr th {\n",
       "        vertical-align: top;\n",
       "    }\n",
       "\n",
       "    .dataframe thead th {\n",
       "        text-align: right;\n",
       "    }\n",
       "</style>\n",
       "<table border=\"1\" class=\"dataframe\">\n",
       "  <thead>\n",
       "    <tr style=\"text-align: right;\">\n",
       "      <th></th>\n",
       "      <th>Unnamed: 0</th>\n",
       "      <th>Date</th>\n",
       "      <th>High</th>\n",
       "      <th>Low</th>\n",
       "      <th>Price</th>\n",
       "    </tr>\n",
       "  </thead>\n",
       "  <tbody>\n",
       "    <tr>\n",
       "      <th>0</th>\n",
       "      <td>TSLA</td>\n",
       "      <td>0</td>\n",
       "      <td>1</td>\n",
       "      <td>2</td>\n",
       "      <td>3</td>\n",
       "    </tr>\n",
       "    <tr>\n",
       "      <th>1</th>\n",
       "      <td>APPL</td>\n",
       "      <td>4</td>\n",
       "      <td>5</td>\n",
       "      <td>6</td>\n",
       "      <td>7</td>\n",
       "    </tr>\n",
       "    <tr>\n",
       "      <th>2</th>\n",
       "      <td>CVX</td>\n",
       "      <td>8</td>\n",
       "      <td>9</td>\n",
       "      <td>10</td>\n",
       "      <td>11</td>\n",
       "    </tr>\n",
       "  </tbody>\n",
       "</table>\n",
       "</div>"
      ],
      "text/plain": [
       "  Unnamed: 0  Date  High  Low  Price\n",
       "0       TSLA     0     1    2      3\n",
       "1       APPL     4     5    6      7\n",
       "2        CVX     8     9   10     11"
      ]
     },
     "execution_count": 45,
     "metadata": {},
     "output_type": "execute_result"
    }
   ],
   "source": [
    "data"
   ]
  },
  {
   "cell_type": "code",
   "execution_count": 46,
   "id": "d402cf8d",
   "metadata": {},
   "outputs": [],
   "source": [
    "data['Range'] = data['High'] - data['Low']"
   ]
  },
  {
   "cell_type": "code",
   "execution_count": 47,
   "id": "d9de9649",
   "metadata": {},
   "outputs": [
    {
     "data": {
      "text/html": [
       "<div>\n",
       "<style scoped>\n",
       "    .dataframe tbody tr th:only-of-type {\n",
       "        vertical-align: middle;\n",
       "    }\n",
       "\n",
       "    .dataframe tbody tr th {\n",
       "        vertical-align: top;\n",
       "    }\n",
       "\n",
       "    .dataframe thead th {\n",
       "        text-align: right;\n",
       "    }\n",
       "</style>\n",
       "<table border=\"1\" class=\"dataframe\">\n",
       "  <thead>\n",
       "    <tr style=\"text-align: right;\">\n",
       "      <th></th>\n",
       "      <th>Unnamed: 0</th>\n",
       "      <th>Date</th>\n",
       "      <th>High</th>\n",
       "      <th>Low</th>\n",
       "      <th>Price</th>\n",
       "      <th>Range</th>\n",
       "    </tr>\n",
       "  </thead>\n",
       "  <tbody>\n",
       "    <tr>\n",
       "      <th>0</th>\n",
       "      <td>TSLA</td>\n",
       "      <td>0</td>\n",
       "      <td>1</td>\n",
       "      <td>2</td>\n",
       "      <td>3</td>\n",
       "      <td>-1</td>\n",
       "    </tr>\n",
       "    <tr>\n",
       "      <th>1</th>\n",
       "      <td>APPL</td>\n",
       "      <td>4</td>\n",
       "      <td>5</td>\n",
       "      <td>6</td>\n",
       "      <td>7</td>\n",
       "      <td>-1</td>\n",
       "    </tr>\n",
       "    <tr>\n",
       "      <th>2</th>\n",
       "      <td>CVX</td>\n",
       "      <td>8</td>\n",
       "      <td>9</td>\n",
       "      <td>10</td>\n",
       "      <td>11</td>\n",
       "      <td>-1</td>\n",
       "    </tr>\n",
       "  </tbody>\n",
       "</table>\n",
       "</div>"
      ],
      "text/plain": [
       "  Unnamed: 0  Date  High  Low  Price  Range\n",
       "0       TSLA     0     1    2      3     -1\n",
       "1       APPL     4     5    6      7     -1\n",
       "2        CVX     8     9   10     11     -1"
      ]
     },
     "execution_count": 47,
     "metadata": {},
     "output_type": "execute_result"
    }
   ],
   "source": [
    "data"
   ]
  },
  {
   "cell_type": "code",
   "execution_count": 49,
   "id": "a2049fba",
   "metadata": {},
   "outputs": [
    {
     "name": "stdout",
     "output_type": "stream",
     "text": [
      "     CMP  Score  Price\n",
      "0    Ali     95    175\n",
      "1  Baidu     85    195\n"
     ]
    }
   ],
   "source": [
    "df1 = pd.DataFrame({'CMP':['Vanke', 'Ali', 'Baidu'], 'Score':[90, 95, 85]})\n",
    "df2 = pd.DataFrame({'CMP':['', 'Ali', 'Baidu'], 'Price':[180, 175, 195]})\n",
    "df3 = pd.merge(df1, df2)\n",
    "print(df3)"
   ]
  },
  {
   "cell_type": "code",
   "execution_count": 50,
   "id": "2e21e4bb",
   "metadata": {},
   "outputs": [
    {
     "name": "stdout",
     "output_type": "stream",
     "text": [
      "     CMP  Score  Price\n",
      "0  Vanke   90.0    NaN\n",
      "1    Ali   95.0  175.0\n",
      "2  Baidu   85.0  195.0\n",
      "3           NaN  180.0\n"
     ]
    }
   ],
   "source": [
    "df4 = pd.merge(df1, df2, how='outer')\n",
    "print(df4)"
   ]
  },
  {
   "cell_type": "code",
   "execution_count": 52,
   "id": "65a37336",
   "metadata": {},
   "outputs": [
    {
     "name": "stdout",
     "output_type": "stream",
     "text": [
      "[Timestamp('2020-09-01 00:00:00', freq='D'), Timestamp('2020-09-02 00:00:00', freq='D'), Timestamp('2020-09-03 00:00:00', freq='D'), Timestamp('2020-09-04 00:00:00', freq='D'), Timestamp('2020-09-05 00:00:00', freq='D'), Timestamp('2020-09-06 00:00:00', freq='D'), Timestamp('2020-09-07 00:00:00', freq='D'), Timestamp('2020-09-08 00:00:00', freq='D'), Timestamp('2020-09-09 00:00:00', freq='D'), Timestamp('2020-09-10 00:00:00', freq='D'), Timestamp('2020-09-11 00:00:00', freq='D'), Timestamp('2020-09-12 00:00:00', freq='D'), Timestamp('2020-09-13 00:00:00', freq='D'), Timestamp('2020-09-14 00:00:00', freq='D'), Timestamp('2020-09-15 00:00:00', freq='D'), Timestamp('2020-09-16 00:00:00', freq='D'), Timestamp('2020-09-17 00:00:00', freq='D'), Timestamp('2020-09-18 00:00:00', freq='D'), Timestamp('2020-09-19 00:00:00', freq='D'), Timestamp('2020-09-20 00:00:00', freq='D'), Timestamp('2020-09-21 00:00:00', freq='D'), Timestamp('2020-09-22 00:00:00', freq='D'), Timestamp('2020-09-23 00:00:00', freq='D'), Timestamp('2020-09-24 00:00:00', freq='D'), Timestamp('2020-09-25 00:00:00', freq='D'), Timestamp('2020-09-26 00:00:00', freq='D'), Timestamp('2020-09-27 00:00:00', freq='D'), Timestamp('2020-09-28 00:00:00', freq='D'), Timestamp('2020-09-29 00:00:00', freq='D'), Timestamp('2020-09-30 00:00:00', freq='D'), Timestamp('2020-10-01 00:00:00', freq='D'), Timestamp('2020-10-02 00:00:00', freq='D')]\n"
     ]
    }
   ],
   "source": [
    "date_list = list(pd.date_range('2020-09-01', '2020-10-02'))\n",
    "print(date_list)"
   ]
  },
  {
   "cell_type": "code",
   "execution_count": 53,
   "id": "0db156b1",
   "metadata": {},
   "outputs": [
    {
     "name": "stdout",
     "output_type": "stream",
     "text": [
      "['2020-09-01', '2020-09-02', '2020-09-03', '2020-09-04', '2020-09-05', '2020-09-06', '2020-09-07', '2020-09-08', '2020-09-09', '2020-09-10', '2020-09-11', '2020-09-12', '2020-09-13', '2020-09-14', '2020-09-15', '2020-09-16', '2020-09-17', '2020-09-18', '2020-09-19', '2020-09-20', '2020-09-21', '2020-09-22', '2020-09-23', '2020-09-24', '2020-09-25', '2020-09-26', '2020-09-27', '2020-09-28', '2020-09-29', '2020-09-30', '2020-10-01', '2020-10-02']\n"
     ]
    }
   ],
   "source": [
    "import datetime\n",
    "for i in range(len(date_list)):\n",
    "    date_list[i] = datetime.datetime.strftime(date_list[i], '%Y-%m-%d')\n",
    "print(date_list)"
   ]
  },
  {
   "cell_type": "code",
   "execution_count": null,
   "id": "a5400e7c",
   "metadata": {},
   "outputs": [],
   "source": []
  }
 ],
 "metadata": {
  "kernelspec": {
   "display_name": "Python 3 (ipykernel)",
   "language": "python",
   "name": "python3"
  },
  "language_info": {
   "codemirror_mode": {
    "name": "ipython",
    "version": 3
   },
   "file_extension": ".py",
   "mimetype": "text/x-python",
   "name": "python",
   "nbconvert_exporter": "python",
   "pygments_lexer": "ipython3",
   "version": "3.9.6"
  }
 },
 "nbformat": 4,
 "nbformat_minor": 5
}
