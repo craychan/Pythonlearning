{
 "cells": [
  {
   "cell_type": "markdown",
   "id": "a84692e3",
   "metadata": {},
   "source": [
    "## import lib"
   ]
  },
  {
   "cell_type": "code",
   "execution_count": null,
   "id": "391bf7b0",
   "metadata": {},
   "outputs": [],
   "source": [
    "import requests\n",
    "import re\n",
    "import pymysql"
   ]
  },
  {
   "cell_type": "markdown",
   "id": "b25f9258",
   "metadata": {},
   "source": [
    "## Var define"
   ]
  },
  {
   "cell_type": "code",
   "execution_count": null,
   "id": "d18cd83d",
   "metadata": {},
   "outputs": [],
   "source": [
    "url = 'https://search.sina.com.cn/news?q=%E9%98%BF%E9%87%8C%E5%B7%B4%E5%B7%B4&c=news&sort=time'\n",
    "user_agent = {'User-Agent' : 'Mozilla/5.0 (Windows NT 10.0; Win64; x64) AppleWebKit/537.36 (KHTML, like Gecko) Chrome/92.0.4515.131 Safari/537.36'}\n",
    "res = requests.get(url, headers=user_agent).text"
   ]
  },
  {
   "cell_type": "markdown",
   "id": "0696f452",
   "metadata": {},
   "source": [
    "## Regex parsors"
   ]
  },
  {
   "cell_type": "code",
   "execution_count": null,
   "id": "ff9a6648",
   "metadata": {},
   "outputs": [],
   "source": [
    "p_href = '<h2><a href=\"(.*?)\" target=\"_blank\">'\n",
    "p_title = '<h2><a href=\".*?>(.*?)</a>'\n",
    "p_date = '<span class=\"fgray_time\">(.*?)</span>'"
   ]
  },
  {
   "cell_type": "markdown",
   "id": "2cc548a0",
   "metadata": {},
   "source": [
    "## data dig and cleaning "
   ]
  },
  {
   "cell_type": "code",
   "execution_count": null,
   "id": "5bcb1a33",
   "metadata": {},
   "outputs": [],
   "source": [
    "href = re.findall(p_href, res)\n",
    "title = re.findall(p_title, res)\n",
    "date = re.findall(p_date, res)"
   ]
  },
  {
   "cell_type": "markdown",
   "id": "429a053b",
   "metadata": {},
   "source": [
    "## Database connection"
   ]
  },
  {
   "cell_type": "code",
   "execution_count": null,
   "id": "ecba3e57",
   "metadata": {
    "scrolled": true
   },
   "outputs": [],
   "source": [
    "db = pymysql.connect(host='localhost', user='root', database='sinafinance')\n",
    "cur = db.cursor()\n",
    "for i in range(len(title)):\n",
    "    title[i] = re.sub('<.*?>', '', title[i])\n",
    "    sql = 'INSERT INTO news(title, href, date) VALUES (%s, %s, %s)'\n",
    "    cur.execute(sql, (title[i], href[i], date[i]))\n",
    "    db.commit()\n",
    "\n",
    "cur.close()\n",
    "db.close()"
   ]
  },
  {
   "cell_type": "code",
   "execution_count": null,
   "id": "6222b38e",
   "metadata": {
    "scrolled": true
   },
   "outputs": [],
   "source": [
    "# for i in range(len(title)):\n",
    "#     title[i] = re.sub('<.*?>', '', title[i])\n",
    "#     print(str(i+1) + ':' + title[i] + '---' + date[i])\n",
    "#     print(href[i])"
   ]
  },
  {
   "cell_type": "code",
   "execution_count": null,
   "id": "7c5a7591",
   "metadata": {},
   "outputs": [],
   "source": []
  }
 ],
 "metadata": {
  "kernelspec": {
   "display_name": "Python 3 (ipykernel)",
   "language": "python",
   "name": "python3"
  },
  "language_info": {
   "codemirror_mode": {
    "name": "ipython",
    "version": 3
   },
   "file_extension": ".py",
   "mimetype": "text/x-python",
   "name": "python",
   "nbconvert_exporter": "python",
   "pygments_lexer": "ipython3",
   "version": "3.9.6"
  }
 },
 "nbformat": 4,
 "nbformat_minor": 5
}
