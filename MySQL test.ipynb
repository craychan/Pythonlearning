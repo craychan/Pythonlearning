{
 "cells": [
  {
   "cell_type": "code",
   "execution_count": 1,
   "id": "5bd5eb22",
   "metadata": {},
   "outputs": [],
   "source": [
    "import pymysql"
   ]
  },
  {
   "cell_type": "code",
   "execution_count": 2,
   "id": "a11bea85",
   "metadata": {},
   "outputs": [],
   "source": [
    "company = [\"TSLA\", \"GOOGLE\", \"BING\"]\n",
    "title = [\"Tesla Model 3, awesome\", \"Alphabet news comming\", \"Bing china search engine\"]\n",
    "href = [\"www.tesla.com\", \"www.google.com\", \"www.bing.com\"]\n",
    "source = [\"Yahoo Finance\", \"Google News\", \"Google News\"]\n",
    "date = [\"2021-08-21\", \"2021-08-20\", \"2021-08-22\"]\n",
    "score = [18, 88, 38]"
   ]
  },
  {
   "cell_type": "code",
   "execution_count": 3,
   "id": "6ca702f6",
   "metadata": {},
   "outputs": [],
   "source": [
    "db = pymysql.connect(user = \"root\", database = \"spidder\")\n",
    "cur = db.cursor()\n",
    "\n",
    "for i in range(len(company)):\n",
    "    sql = 'INSERT INTO baidunews(company, title, href, source, date, score) VALUES (%s, %s, %s, %s, %s, %s)'\n",
    "    cur.execute(sql, (company[i], title[i], href[i], source[i], date[i], score[i]))\n",
    "    db.commit()"
   ]
  },
  {
   "cell_type": "code",
   "execution_count": 4,
   "id": "22b2e2cc",
   "metadata": {},
   "outputs": [],
   "source": [
    "cur.execute('DELETE FROM baidunews WHERE company=\"TSLA\"')\n",
    "db.commit()"
   ]
  },
  {
   "cell_type": "code",
   "execution_count": 6,
   "id": "9185f2b3",
   "metadata": {},
   "outputs": [
    {
     "data": {
      "text/plain": [
       "0"
      ]
     },
     "execution_count": 6,
     "metadata": {},
     "output_type": "execute_result"
    }
   ],
   "source": [
    "cur.execute(\"DROP TABLE baidunews\")"
   ]
  },
  {
   "cell_type": "code",
   "execution_count": 7,
   "id": "e48f6310",
   "metadata": {},
   "outputs": [
    {
     "data": {
      "text/plain": [
       "0"
      ]
     },
     "execution_count": 7,
     "metadata": {},
     "output_type": "execute_result"
    }
   ],
   "source": [
    "cur.execute(\"CREATE TABLE baidunews (company TEXT, title TEXT, href TEXT, source TEXT, date DATE, score INT )\")"
   ]
  },
  {
   "cell_type": "code",
   "execution_count": null,
   "id": "00a89af5",
   "metadata": {},
   "outputs": [],
   "source": []
  }
 ],
 "metadata": {
  "kernelspec": {
   "display_name": "Python 3 (ipykernel)",
   "language": "python",
   "name": "python3"
  },
  "language_info": {
   "codemirror_mode": {
    "name": "ipython",
    "version": 3
   },
   "file_extension": ".py",
   "mimetype": "text/x-python",
   "name": "python",
   "nbconvert_exporter": "python",
   "pygments_lexer": "ipython3",
   "version": "3.9.6"
  }
 },
 "nbformat": 4,
 "nbformat_minor": 5
}
